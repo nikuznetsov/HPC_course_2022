{
  "nbformat": 4,
  "nbformat_minor": 0,
  "metadata": {
    "colab": {
      "name": "CUDA_HW.ipynb",
      "provenance": [],
      "collapsed_sections": [
        "BwoCX34tuStZ",
        "UHn89meZmpnW",
        "EM4zdimQmt1X"
      ]
    },
    "kernelspec": {
      "name": "python3",
      "display_name": "Python 3"
    },
    "language_info": {
      "name": "python"
    },
    "accelerator": "GPU"
  },
  "cells": [
    {
      "cell_type": "markdown",
      "source": [
        "# Imports"
      ],
      "metadata": {
        "id": "BwoCX34tuStZ"
      }
    },
    {
      "cell_type": "code",
      "source": [
        "import matplotlib.pyplot as plt\n",
        "import numpy as np\n",
        "import cv2"
      ],
      "metadata": {
        "id": "Ds5yj23juRvT"
      },
      "execution_count": 1,
      "outputs": []
    },
    {
      "cell_type": "markdown",
      "source": [
        "# CUDA 10"
      ],
      "metadata": {
        "id": "UHn89meZmpnW"
      }
    },
    {
      "cell_type": "markdown",
      "source": [
        "I was not able to use Tesla K80 (in Colab) card with CUDA 11. That is why I downgraded to CUDA 10."
      ],
      "metadata": {
        "id": "0Zv64UGehncp"
      }
    },
    {
      "cell_type": "code",
      "source": [
        "%cd /usr/local/"
      ],
      "metadata": {
        "colab": {
          "base_uri": "https://localhost:8080/"
        },
        "id": "apql3ojoQ0gl",
        "outputId": "1a37cb04-2744-4388-92c5-5383c2cb6e67"
      },
      "execution_count": 2,
      "outputs": [
        {
          "output_type": "stream",
          "name": "stdout",
          "text": [
            "/usr/local\n"
          ]
        }
      ]
    },
    {
      "cell_type": "code",
      "source": [
        "!pwd"
      ],
      "metadata": {
        "colab": {
          "base_uri": "https://localhost:8080/"
        },
        "id": "Ezr8_S1jQ4XS",
        "outputId": "e7a84190-8055-4810-bcd0-f4efa2419228"
      },
      "execution_count": 3,
      "outputs": [
        {
          "output_type": "stream",
          "name": "stdout",
          "text": [
            "/usr/local\n"
          ]
        }
      ]
    },
    {
      "cell_type": "code",
      "source": [
        "!ls"
      ],
      "metadata": {
        "colab": {
          "base_uri": "https://localhost:8080/"
        },
        "id": "ihhiC33cQ6Iv",
        "outputId": "3a8ea222-6c84-429e-f2a4-9fb84924af96"
      },
      "execution_count": 4,
      "outputs": [
        {
          "output_type": "stream",
          "name": "stdout",
          "text": [
            "bin\t   cuda-10.1  cuda-11.1  _gcs_config_ops.so  licensing\tshare\n",
            "cuda\t   cuda-11    etc\t include\t     man\tsrc\n",
            "cuda-10.0  cuda-11.0  games\t lib\t\t     sbin\txgboost\n"
          ]
        }
      ]
    },
    {
      "cell_type": "code",
      "source": [
        "!rm -rf cuda\n",
        "!ln -s /usr/local/cuda-10.0 /usr/local/cuda"
      ],
      "metadata": {
        "id": "3ltpEr6QRDbu"
      },
      "execution_count": 5,
      "outputs": []
    },
    {
      "cell_type": "code",
      "source": [
        "!stat cuda"
      ],
      "metadata": {
        "colab": {
          "base_uri": "https://localhost:8080/"
        },
        "id": "ShOKkXGPRJfZ",
        "outputId": "2bbd76a7-d1de-449e-a096-ed810ab66d65"
      },
      "execution_count": 6,
      "outputs": [
        {
          "output_type": "stream",
          "name": "stdout",
          "text": [
            "  File: cuda -> /usr/local/cuda-10.0\n",
            "  Size: 20        \tBlocks: 0          IO Block: 4096   symbolic link\n",
            "Device: 24h/36d\tInode: 2359310     Links: 1\n",
            "Access: (0777/lrwxrwxrwx)  Uid: (    0/    root)   Gid: (    0/    root)\n",
            "Access: 2022-05-04 17:59:24.437146285 +0000\n",
            "Modify: 2022-05-04 17:59:24.324146499 +0000\n",
            "Change: 2022-05-04 17:59:24.324146499 +0000\n",
            " Birth: -\n"
          ]
        }
      ]
    },
    {
      "cell_type": "code",
      "source": [
        "!nvcc --version"
      ],
      "metadata": {
        "colab": {
          "base_uri": "https://localhost:8080/"
        },
        "id": "BqK7lyCoPUiS",
        "outputId": "d19ecf7a-03d2-40ce-804d-aca3ddcd5ecc"
      },
      "execution_count": 7,
      "outputs": [
        {
          "output_type": "stream",
          "name": "stdout",
          "text": [
            "nvcc: NVIDIA (R) Cuda compiler driver\n",
            "Copyright (c) 2005-2018 NVIDIA Corporation\n",
            "Built on Sat_Aug_25_21:08:01_CDT_2018\n",
            "Cuda compilation tools, release 10.0, V10.0.130\n"
          ]
        }
      ]
    },
    {
      "cell_type": "code",
      "source": [
        "!nvidia-smi"
      ],
      "metadata": {
        "colab": {
          "base_uri": "https://localhost:8080/"
        },
        "id": "3ICprGAJ63vo",
        "outputId": "69ca4d1d-5322-489f-db25-7f1c15b55bf2"
      },
      "execution_count": 8,
      "outputs": [
        {
          "output_type": "stream",
          "name": "stdout",
          "text": [
            "Wed May  4 17:59:24 2022       \n",
            "+-----------------------------------------------------------------------------+\n",
            "| NVIDIA-SMI 460.32.03    Driver Version: 460.32.03    CUDA Version: 11.2     |\n",
            "|-------------------------------+----------------------+----------------------+\n",
            "| GPU  Name        Persistence-M| Bus-Id        Disp.A | Volatile Uncorr. ECC |\n",
            "| Fan  Temp  Perf  Pwr:Usage/Cap|         Memory-Usage | GPU-Util  Compute M. |\n",
            "|                               |                      |               MIG M. |\n",
            "|===============================+======================+======================|\n",
            "|   0  Tesla K80           Off  | 00000000:00:04.0 Off |                    0 |\n",
            "| N/A   38C    P8    26W / 149W |      0MiB / 11441MiB |      0%      Default |\n",
            "|                               |                      |                  N/A |\n",
            "+-------------------------------+----------------------+----------------------+\n",
            "                                                                               \n",
            "+-----------------------------------------------------------------------------+\n",
            "| Processes:                                                                  |\n",
            "|  GPU   GI   CI        PID   Type   Process name                  GPU Memory |\n",
            "|        ID   ID                                                   Usage      |\n",
            "|=============================================================================|\n",
            "|  No running processes found                                                 |\n",
            "+-----------------------------------------------------------------------------+\n"
          ]
        }
      ]
    },
    {
      "cell_type": "code",
      "source": [
        "%cd /content/"
      ],
      "metadata": {
        "colab": {
          "base_uri": "https://localhost:8080/"
        },
        "id": "jMT3PDj0VzKG",
        "outputId": "62cc11c3-4a80-44f5-d826-8fdf87ae5582"
      },
      "execution_count": 9,
      "outputs": [
        {
          "output_type": "stream",
          "name": "stdout",
          "text": [
            "/content\n"
          ]
        }
      ]
    },
    {
      "cell_type": "code",
      "source": [
        "!pwd"
      ],
      "metadata": {
        "colab": {
          "base_uri": "https://localhost:8080/"
        },
        "id": "koPaO6gHV2Vh",
        "outputId": "39657374-ddf0-4f1e-f195-0eaeea4eda47"
      },
      "execution_count": 10,
      "outputs": [
        {
          "output_type": "stream",
          "name": "stdout",
          "text": [
            "/content\n"
          ]
        }
      ]
    },
    {
      "cell_type": "markdown",
      "source": [
        "# 2. Filtering"
      ],
      "metadata": {
        "id": "NVjIhMUjiMNA"
      }
    },
    {
      "cell_type": "code",
      "source": [
        "%%writefile filter.cu\n",
        "\n",
        "#include <stdio.h>\n",
        "#include <stdint.h>\n",
        "\n",
        "#define STB_IMAGE_IMPLEMENTATION\n",
        "#include \"stb_image.h\"\n",
        "\n",
        "#define STB_IMAGE_WRITE_IMPLEMENTATION\n",
        "#include \"stb_image_write.h\"\n",
        "\n",
        "__global__ void NonLinearFilter(int h, int w,  double *cuda_image, double *cuda_res)\n",
        "{\n",
        "    int globalidx = threadIdx.x + blockDim.x * blockIdx.x;\n",
        "    int j = globalidx / w / 3;\n",
        "    int i = globalidx / 3 - j * w;\n",
        "    int ch = globalidx - i * 3 - j * w * 3;\n",
        "  \n",
        "    long int size = h * w * 3;\t\n",
        " \n",
        "    double colors[121];\n",
        "\n",
        "\tif (globalidx < size)\n",
        "\t{\n",
        "      if (i < 4 || j < 4 || i > w - 5 || j > h - 5) cuda_res[j*w*3 + i*3 + ch] =  cuda_image[j*w*3 + i*3 + ch];\n",
        "\t\t  else\n",
        "\t\t  {\n",
        "        int count = 0;\n",
        "\t\t\t  for (int indi = -5; indi < 6; indi++)\n",
        "\t\t\t  {\n",
        "            for (int indj = -5; indj < 6; indj++)\n",
        "            {\n",
        "                colors[count] = cuda_image[(j + indj)*w*3 + (i+indi)*3 + ch];\n",
        "\t\t\t\t\t      count++;\t\n",
        "\t\t\t\t    }\n",
        "\t\t\t  }\n",
        "\t\t\t\n",
        "\t\t\tdouble x = 0;\n",
        "\t\t\tfor (int indi = 0; indi < 120; indi++)\n",
        "\t\t\t{\n",
        "          for (int indj = indi + 1; indj < 121; indj++)\n",
        "\t\t\t\t  {\n",
        "              if (colors[indi] < colors[indj])\n",
        "              {\n",
        "                  x = colors[indi];\n",
        "                  colors[indi] = colors[indj];\n",
        "                  colors[indj] = x;\n",
        "               }\n",
        "       \t  }\n",
        "\t\t\t}\n",
        "\t\t\tcuda_res[j*w*3 + i*3 + ch] = colors[60];\n",
        "\t\t}\n",
        "\t}\n",
        "}\n",
        "\n",
        "\n",
        "__global__ void Filter(int h, int w, double *kernel, double *cuda_image, double *cuda_res)\n",
        "{\n",
        "    int globalidx = threadIdx.x + blockDim.x * blockIdx.x;\n",
        "    int j = globalidx / w / 3;\n",
        "    int i = globalidx / 3 - j * w;\n",
        "    int ch = globalidx - i * 3 - j * w * 3; \n",
        " \n",
        "    long int size = h * w * 3;\t\n",
        " \n",
        "    if (globalidx < size)\n",
        "\t  {\n",
        "        if (i == 0 || j == 0 || i == w - 1 || j == h - 1) cuda_res[j*w*3 + i*3 + ch] =  cuda_image[j*w*3 + i*3 + ch];\n",
        "\t\t    else\n",
        "\t\t    {\n",
        "          cuda_res[j*w*3 + i*3 + ch] =  (cuda_image[j*w*3 + i*3 + ch]*kernel[4] + \\\n",
        "\t\t\t\t\t\t\t\t\t\t\t\t\t\t\t\t\t\t\t\t cuda_image[(j + 1) *w * 3 + (i - 1) * 3 + ch]*kernel[0] + \\\n",
        "\t\t\t\t\t\t\t\t\t\t\t\t\t\t\t\t\t\t\t\t cuda_image[(j + 1) *w * 3 + (i + 1) * 3 + ch]*kernel[8] + \\\n",
        "\t\t\t\t\t\t\t\t\t\t\t\t\t\t\t\t\t\t\t\t cuda_image[(j - 1) *w * 3 + (i - 1) * 3 + ch]*kernel[6] + \\\n",
        "\t\t\t\t\t\t\t\t\t\t\t\t\t\t\t\t\t\t\t\t cuda_image[(j - 1) *w * 3 + (i + 1) * 3 + ch]*kernel[2] + \\\n",
        "\t\t\t\t\t\t\t\t\t\t\t\t\t\t\t\t\t\t\t\t cuda_image[(j + 1) *w * 3 + i * 3 + ch]*kernel[3] + \\\n",
        "\t\t\t\t\t\t\t\t\t\t\t\t\t\t\t\t\t\t\t\t cuda_image[j *w * 3 + (i - 1) * 3 + ch]*kernel[1] + \\\n",
        "\t\t\t\t\t\t\t\t\t\t\t\t\t\t\t\t\t\t\t\t cuda_image[(j - 1) *w * 3 + i * 3 + ch]*kernel[5] + \\\n",
        "\t\t\t\t\t\t\t\t\t\t\t\t\t\t\t\t\t\t\t\t cuda_image[j * w * 3 + (i + 1)*3 + ch]*kernel[7]); \n",
        "\t\t   }\n",
        "\t  if (cuda_res[j*w*3 +i*3 + ch] < 0) cuda_res[j*w*3 + i*3 + ch] = 0;\n",
        "\t  }\n",
        "}\n",
        "\n",
        "\n",
        "int main(int argc, char **argv)\n",
        "{\n",
        "\tint w, h, bpp, size;\n",
        "\tdouble *kernel = (double *) calloc(sizeof(double), 9);\n",
        " \tdouble *cuda_kernel;\n",
        "\t\n",
        "\tchar *filter;\n",
        "\tfilter = (char *) malloc(sizeof(char) * (strlen(argv[1] + 1)));\n",
        "\tfilter = argv[1];\n",
        "\t\n",
        "\tif (strcmp(filter, \"edge\") == 0)\n",
        "\t{\n",
        "      kernel[0] = kernel[6] = kernel[2] = kernel[8] = -1;\n",
        "      kernel[1] = kernel[3] = kernel[7] = kernel[5] = -1;\n",
        "      kernel[4] = 8;\n",
        "\t}\n",
        "  \n",
        "  if (strcmp(filter, \"gaussian\") == 0)\n",
        "  {\n",
        "\t\t\tkernel[0] = kernel[6] = kernel[2] = kernel[8] = 1 / 16.;\n",
        "\t\t\tkernel[1] = kernel[3] = kernel[7] = kernel[5] = 2 / 16.;\n",
        "\t\t\tkernel[4] = 3 / 50.;\n",
        "  }\n",
        "\n",
        "  if (strcmp(filter, \"median\") != 0)\n",
        "  {\n",
        "      cudaMalloc(&cuda_kernel, sizeof(double)*9);\n",
        "\t    cudaMemcpy(cuda_kernel, kernel, sizeof(double) * 9, cudaMemcpyHostToDevice);\t\n",
        "  }\n",
        "\n",
        "\tuint8_t* image = stbi_load(\"tree.jpg\", &w, &h, &bpp, 3);\t\n",
        "\tsize = h * w * 3;\n",
        "\t\n",
        "\tdouble * buf = (double *) malloc(sizeof(double) * size);\n",
        "\n",
        "\tdouble *cuda_image;\n",
        "\tdouble *cuda_res;\n",
        "\n",
        "\tcudaMalloc(&cuda_image, sizeof(double) * size);\n",
        "\tcudaMalloc(&cuda_res, sizeof(double) * size);\n",
        "\n",
        "\tfor (int i = 0; i < size; i++) buf[i] = (double) image[i];\n",
        "\t\n",
        "\tcudaMemcpy(cuda_image, buf, sizeof(double) * size, cudaMemcpyHostToDevice);\n",
        "\n",
        "  int block_size = h, grid_size = size / h;\n",
        "\n",
        "  dim3 dimBlock(block_size);\n",
        "  dim3 dimGrid(grid_size);\n",
        "\n",
        "  if (strcmp(filter, \"median\") != 0) Filter<<<dimGrid, dimBlock>>>(h, w, cuda_kernel, cuda_image, cuda_res);\n",
        "  else NonLinearFilter<<<dimGrid, dimBlock>>>(h, w, cuda_image, cuda_res);\n",
        "\n",
        "\tcudaDeviceSynchronize();\t\n",
        "\t\n",
        "\tdouble *buf_res = (double *)malloc(sizeof(double) * size);\n",
        "\tcudaMemcpy(buf_res, cuda_res, sizeof(double) * size, cudaMemcpyDeviceToHost);\n",
        "\t\n",
        "  for (int i = 0; i < size; i++) image[i] = uint8_t (buf_res[i]);\n",
        "\n",
        "\tstbi_write_png(\"tree_filtered.png\", w, h, 3, image, w * 3);\n",
        "\n",
        "\tfree(image);\n",
        "\tfree(buf);\n",
        "\tcudaFree(cuda_image);\n",
        "\tcudaFree(cuda_res);\n",
        "}"
      ],
      "metadata": {
        "colab": {
          "base_uri": "https://localhost:8080/"
        },
        "id": "DZ_YSILYiLpc",
        "outputId": "d1bd9b04-e3b1-4069-e2a6-9d1a2aeea3da"
      },
      "execution_count": 21,
      "outputs": [
        {
          "output_type": "stream",
          "name": "stdout",
          "text": [
            "Overwriting filter.cu\n"
          ]
        }
      ]
    },
    {
      "cell_type": "code",
      "source": [
        "# !./a.out median/gaussian/edge\n",
        "\n",
        "!nvcc filter.cu\n",
        "!./a.out median"
      ],
      "metadata": {
        "colab": {
          "base_uri": "https://localhost:8080/"
        },
        "id": "JhoQo_3fiQTK",
        "outputId": "216c6ed2-b37e-46af-c960-4ae0a20b602e"
      },
      "execution_count": 22,
      "outputs": [
        {
          "output_type": "stream",
          "name": "stdout",
          "text": [
            "stb_image.h(4096): warning: variable \"old_limit\" was set but never used\n",
            "\n",
            "stb_image.h(4975): warning: variable \"idata_limit_old\" was set but never used\n",
            "\n"
          ]
        }
      ]
    },
    {
      "cell_type": "markdown",
      "source": [
        "# 3. Histogram"
      ],
      "metadata": {
        "id": "EM4zdimQmt1X"
      }
    },
    {
      "cell_type": "markdown",
      "source": [
        "To run the code `tree.jpg` , `stb_image.h` , `stb_iamge_write.h` files are needed (from GitHub repo)"
      ],
      "metadata": {
        "id": "Hc_YVhWrh3K5"
      }
    },
    {
      "cell_type": "code",
      "source": [
        "%%writefile histogram.cu\n",
        "\n",
        "#include <stdio.h>\n",
        "#include <stdint.h>\n",
        "\n",
        "#define STB_IMAGE_IMPLEMENTATION\n",
        "#include \"stb_image.h\"\n",
        "\n",
        "#define STB_IMAGE_WRITE_IMPLEMENTATION\n",
        "#include \"stb_image_write.h\"\n",
        "\n",
        "__global__ void GrayScale(uint8_t *im, unsigned int *hist_bin, int N)\n",
        "{\n",
        "    int myId = threadIdx.x + blockDim.x * blockIdx.x;\n",
        "    atomicAdd(&hist_bin[im[myId] % N], 1);\n",
        "}\n",
        "\n",
        "\n",
        "int main(int argc, char **argv)\n",
        "{\n",
        "\tint N = 256, CHANNELS = 3; \n",
        "\tint w, h, c;\n",
        "\n",
        "\tuint8_t* image = stbi_load(\"tree.jpg\", &w, &h, &c, 3);\n",
        "\n",
        "\tint block = N, grid = h * w / N;\n",
        "\t\n",
        "  dim3 Block(block);\n",
        "  dim3 Grid(grid);\n",
        "\t\n",
        "  uint8_t *im;\n",
        "\t\n",
        "  unsigned int *hist;\n",
        "\tunsigned int *res = (unsigned int *) malloc(sizeof(unsigned int) * 256);\n",
        "\n",
        "\tFILE *f;\n",
        "\tf = fopen(\"data.txt\", \"wb\");\n",
        "\t\n",
        "\tcudaMalloc(&im, sizeof(uint8_t) * h * w);\n",
        "  cudaMalloc(&hist, sizeof(unsigned int) * N);\n",
        "  \n",
        "  cudaMemset(hist, 0, sizeof(unsigned int) * N);\t\n",
        "\t\n",
        "  uint8_t* image_gray = (uint8_t *) malloc(sizeof(uint8_t) * h * w);\n",
        "\n",
        "  for (int i = 0; i < h; i++)\n",
        "  {\n",
        "      for (int j = 0; j < w; j++)\n",
        "      {\n",
        "          int s_ch = 0;\n",
        "          for (int ch = 0; ch < CHANNELS; ch++) s_ch += image[i*w*CHANNELS + j*CHANNELS + ch];\n",
        "          image_gray[i*w + j] = s_ch / 3;\n",
        "      }\n",
        "  }\n",
        "\n",
        "\tcudaMemcpy(im, image_gray, sizeof(uint8_t) * h * w, cudaMemcpyHostToDevice);\n",
        " \n",
        "\tGrayScale<<<Grid, Block>>>(im, hist, N);\n",
        "\tcudaDeviceSynchronize();\t\n",
        " \n",
        "\tcudaMemcpy(res, hist, sizeof(unsigned int) * N, cudaMemcpyDeviceToHost);\n",
        "\t\n",
        "  for (int i = 0; i < N; i++) fprintf(f, \"%d\\n\", res[i]);\n",
        " \n",
        "\tfree(image_gray);\n",
        "\tfree(res);\n",
        "\tcudaFree(im);\n",
        "\tcudaFree(hist);\n",
        "\tfclose(f);\n",
        "}"
      ],
      "metadata": {
        "colab": {
          "base_uri": "https://localhost:8080/"
        },
        "id": "D77fEWlqnulg",
        "outputId": "2ada2512-603d-40e5-cac9-741942ae3abc"
      },
      "execution_count": null,
      "outputs": [
        {
          "output_type": "stream",
          "name": "stdout",
          "text": [
            "Overwriting histogram.cu\n"
          ]
        }
      ]
    },
    {
      "cell_type": "code",
      "source": [
        "!nvcc histogram.cu\n",
        "!./a.out"
      ],
      "metadata": {
        "id": "jZE8-Wds2Ml_",
        "colab": {
          "base_uri": "https://localhost:8080/"
        },
        "outputId": "261f41c7-6ac2-4c8d-90a5-9c3fb4250809"
      },
      "execution_count": null,
      "outputs": [
        {
          "output_type": "stream",
          "name": "stdout",
          "text": [
            "stb_image.h(4096): warning: variable \"old_limit\" was set but never used\n",
            "\n",
            "stb_image.h(4975): warning: variable \"idata_limit_old\" was set but never used\n",
            "\n"
          ]
        }
      ]
    },
    {
      "cell_type": "code",
      "source": [
        "y = []\n",
        "with open('data.txt') as file: \n",
        "  for line in file: y.append(int(line))\n",
        "\n",
        "img = cv2.imread('tree.jpg', 0)\n",
        "\n",
        "plt.figure(figsize=(10, 5))\n",
        "plt.title('Histogram comparison CUDA vs CV2')\n",
        "plt.hist(img.flatten(), bins=256, label='CUDA data')\n",
        "plt.plot(np.arange(256), y, label='CV2 data')\n",
        "plt.legend();"
      ],
      "metadata": {
        "colab": {
          "base_uri": "https://localhost:8080/",
          "height": 336
        },
        "id": "-MoRQMsVBOAw",
        "outputId": "d75d6c77-04cf-43b7-a608-52b955f05480"
      },
      "execution_count": null,
      "outputs": [
        {
          "output_type": "display_data",
          "data": {
            "text/plain": [
              "<Figure size 720x360 with 1 Axes>"
            ],
            "image/png": "[encoded data removed]"
          },
          "metadata": {
            "needs_background": "light"
          }
        }
      ]
    },
    {
      "cell_type": "code",
      "source": [
        ""
      ],
      "metadata": {
        "id": "3sjST2TiDUH8"
      },
      "execution_count": null,
      "outputs": []
    }
  ]
}